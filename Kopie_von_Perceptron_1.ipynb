{
  "nbformat": 4,
  "nbformat_minor": 0,
  "metadata": {
    "colab": {
      "name": "Kopie von Perceptron 1.ipynb",
      "provenance": [],
      "collapsed_sections": []
    },
    "kernelspec": {
      "name": "python3",
      "display_name": "Python 3"
    }
  },
  "cells": [
    {
      "cell_type": "markdown",
      "metadata": {
        "id": "zGrQyZxaxzW-"
      },
      "source": [
        "# Perceptron 1"
      ]
    },
    {
      "cell_type": "markdown",
      "metadata": {
        "id": "5hNUHxiAx2XE"
      },
      "source": [
        "![alt text](https://drive.google.com/uc?id=1o5DhBusTaqWFEfAxC7v20-jemnKBninM)"
      ]
    },
    {
      "cell_type": "markdown",
      "metadata": {
        "id": "0Zy1NxIgOCnX"
      },
      "source": [
        "## Inputs and weights"
      ]
    },
    {
      "cell_type": "code",
      "metadata": {
        "id": "z-5dEcggSO_S"
      },
      "source": [
        "inputs = [35, 25]"
      ],
      "execution_count": 1,
      "outputs": []
    },
    {
      "cell_type": "code",
      "metadata": {
        "id": "iTpWAQDJSf-e",
        "colab": {
          "base_uri": "https://localhost:8080/"
        },
        "outputId": "3008986c-0fe8-4d6d-c7d0-a2c104f5ccb2"
      },
      "source": [
        "type(inputs)"
      ],
      "execution_count": 2,
      "outputs": [
        {
          "output_type": "execute_result",
          "data": {
            "text/plain": [
              "list"
            ]
          },
          "metadata": {},
          "execution_count": 2
        }
      ]
    },
    {
      "cell_type": "code",
      "metadata": {
        "id": "FaQu-mJgSo6I",
        "colab": {
          "base_uri": "https://localhost:8080/"
        },
        "outputId": "1ad7ba58-bf95-4cc9-d56d-fa6b083e31ea"
      },
      "source": [
        "inputs[0]"
      ],
      "execution_count": 3,
      "outputs": [
        {
          "output_type": "execute_result",
          "data": {
            "text/plain": [
              "35"
            ]
          },
          "metadata": {},
          "execution_count": 3
        }
      ]
    },
    {
      "cell_type": "code",
      "metadata": {
        "id": "ZYmiXB3ESrXO",
        "colab": {
          "base_uri": "https://localhost:8080/"
        },
        "outputId": "62e821b0-a4bd-499e-8304-b0656d32e76a"
      },
      "source": [
        "inputs[1]"
      ],
      "execution_count": 4,
      "outputs": [
        {
          "output_type": "execute_result",
          "data": {
            "text/plain": [
              "25"
            ]
          },
          "metadata": {},
          "execution_count": 4
        }
      ]
    },
    {
      "cell_type": "code",
      "metadata": {
        "id": "sUegRBmjSxU_"
      },
      "source": [
        "weights = [-0.8, 0.1]"
      ],
      "execution_count": 5,
      "outputs": []
    },
    {
      "cell_type": "markdown",
      "metadata": {
        "id": "b-FFtbMFOHPO"
      },
      "source": [
        "## Sum function"
      ]
    },
    {
      "cell_type": "code",
      "metadata": {
        "id": "1ZFnRkgWS6tF"
      },
      "source": [
        "def sum(inputs, weights):\n",
        "  s = 0\n",
        "  for i in range(2):\n",
        "    #print(i)\n",
        "    print(inputs[i])\n",
        "    print(weights[i])\n",
        "    s += inputs[i] * weights[i]\n",
        "  return s"
      ],
      "execution_count": 10,
      "outputs": []
    },
    {
      "cell_type": "code",
      "metadata": {
        "id": "-nCHELAjTQw1",
        "colab": {
          "base_uri": "https://localhost:8080/"
        },
        "outputId": "5b79dac0-2524-4619-e08c-7b75c3c28ce8"
      },
      "source": [
        "s = sum(inputs, weights)"
      ],
      "execution_count": 11,
      "outputs": [
        {
          "output_type": "stream",
          "name": "stdout",
          "text": [
            "35\n",
            "-0.8\n",
            "25\n",
            "0.1\n"
          ]
        }
      ]
    },
    {
      "cell_type": "code",
      "metadata": {
        "id": "Yp7Eo5o5UC9n",
        "colab": {
          "base_uri": "https://localhost:8080/"
        },
        "outputId": "14ddd49c-10ca-4039-d921-8bdab5600750"
      },
      "source": [
        "s"
      ],
      "execution_count": 12,
      "outputs": [
        {
          "output_type": "execute_result",
          "data": {
            "text/plain": [
              "-25.5"
            ]
          },
          "metadata": {},
          "execution_count": 12
        }
      ]
    },
    {
      "cell_type": "markdown",
      "metadata": {
        "id": "HnggNLkiOJj2"
      },
      "source": [
        "## Step function"
      ]
    },
    {
      "cell_type": "code",
      "metadata": {
        "id": "tyGCL1jYUS52"
      },
      "source": [
        "def step_function(sum):\n",
        "  if (sum >= 1):\n",
        "    return 1\n",
        "  return 0"
      ],
      "execution_count": 13,
      "outputs": []
    },
    {
      "cell_type": "markdown",
      "metadata": {
        "id": "pybCG4h8ONSR"
      },
      "source": [
        "## Final result"
      ]
    },
    {
      "cell_type": "code",
      "metadata": {
        "id": "nISd_PZSUzvI",
        "colab": {
          "base_uri": "https://localhost:8080/"
        },
        "outputId": "4fd118b5-210c-4e6c-e405-88835c845629"
      },
      "source": [
        "step_function(s)"
      ],
      "execution_count": 14,
      "outputs": [
        {
          "output_type": "execute_result",
          "data": {
            "text/plain": [
              "0"
            ]
          },
          "metadata": {},
          "execution_count": 14
        }
      ]
    }
  ]
}