{
  "nbformat": 4,
  "nbformat_minor": 0,
  "metadata": {
    "colab": {
      "name": "Kopie von Perceptron 2.ipynb",
      "provenance": [],
      "collapsed_sections": []
    },
    "kernelspec": {
      "name": "python3",
      "display_name": "Python 3"
    }
  },
  "cells": [
    {
      "cell_type": "markdown",
      "metadata": {
        "id": "zGrQyZxaxzW-"
      },
      "source": [
        "# Perceptron 2"
      ]
    },
    {
      "cell_type": "markdown",
      "metadata": {
        "id": "FICx1YXhWGTv"
      },
      "source": [
        "## Inputs and weights"
      ]
    },
    {
      "cell_type": "code",
      "metadata": {
        "id": "rDdLaCwFW63a"
      },
      "source": [
        "import numpy as np"
      ],
      "execution_count": 1,
      "outputs": []
    },
    {
      "cell_type": "code",
      "metadata": {
        "id": "6tRoeNH43B2j"
      },
      "source": [
        "inputs = np.array([35, 25])"
      ],
      "execution_count": 2,
      "outputs": []
    },
    {
      "cell_type": "code",
      "metadata": {
        "id": "khYpcnr8A2Ih",
        "outputId": "f9f37cba-7424-4a44-ad36-be9321604026",
        "colab": {
          "base_uri": "https://localhost:8080/"
        }
      },
      "source": [
        "type(inputs)"
      ],
      "execution_count": 3,
      "outputs": [
        {
          "output_type": "execute_result",
          "data": {
            "text/plain": [
              "numpy.ndarray"
            ]
          },
          "metadata": {},
          "execution_count": 3
        }
      ]
    },
    {
      "cell_type": "code",
      "metadata": {
        "id": "S2WgHWTN39VL"
      },
      "source": [
        "weights = np.array([-0.8, 0.1])"
      ],
      "execution_count": 4,
      "outputs": []
    },
    {
      "cell_type": "markdown",
      "metadata": {
        "id": "a6qJMIIuWI7w"
      },
      "source": [
        "## Sum function"
      ]
    },
    {
      "cell_type": "code",
      "metadata": {
        "id": "0MVkjeS75JC2"
      },
      "source": [
        "def sum(inputs, weights):\n",
        "  return inputs.dot(weights)"
      ],
      "execution_count": 5,
      "outputs": []
    },
    {
      "cell_type": "code",
      "metadata": {
        "id": "GP67RkcO6vp7"
      },
      "source": [
        "s = sum(inputs, weights)"
      ],
      "execution_count": 6,
      "outputs": []
    },
    {
      "cell_type": "code",
      "metadata": {
        "id": "CavUmDUcEfot",
        "outputId": "666a0fce-2970-48fa-b113-86a188863958",
        "colab": {
          "base_uri": "https://localhost:8080/"
        }
      },
      "source": [
        "s"
      ],
      "execution_count": 7,
      "outputs": [
        {
          "output_type": "execute_result",
          "data": {
            "text/plain": [
              "-25.5"
            ]
          },
          "metadata": {},
          "execution_count": 7
        }
      ]
    },
    {
      "cell_type": "markdown",
      "metadata": {
        "id": "awScPH59WLZz"
      },
      "source": [
        "## Step function"
      ]
    },
    {
      "cell_type": "code",
      "metadata": {
        "id": "IvWGnZmK8EN3"
      },
      "source": [
        "def step_function(sum):\n",
        "  if (sum >= 1):\n",
        "    return 1\n",
        "  return 0"
      ],
      "execution_count": 8,
      "outputs": []
    },
    {
      "cell_type": "markdown",
      "metadata": {
        "id": "3Y0ySDI7WNRO"
      },
      "source": [
        "## Final result"
      ]
    },
    {
      "cell_type": "code",
      "metadata": {
        "id": "YbLxiisv8qgT",
        "outputId": "d129710a-9729-4d7b-983b-4c6d19e005d5",
        "colab": {
          "base_uri": "https://localhost:8080/"
        }
      },
      "source": [
        "step_function(s)"
      ],
      "execution_count": 9,
      "outputs": [
        {
          "output_type": "execute_result",
          "data": {
            "text/plain": [
              "0"
            ]
          },
          "metadata": {},
          "execution_count": 9
        }
      ]
    }
  ]
}