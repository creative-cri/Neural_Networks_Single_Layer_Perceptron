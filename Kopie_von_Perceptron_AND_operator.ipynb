{
  "nbformat": 4,
  "nbformat_minor": 0,
  "metadata": {
    "colab": {
      "name": "Kopie von Perceptron AND operator.ipynb",
      "provenance": [],
      "collapsed_sections": []
    },
    "kernelspec": {
      "name": "python3",
      "display_name": "Python 3"
    }
  },
  "cells": [
    {
      "cell_type": "markdown",
      "metadata": {
        "id": "HIdhT6gdtGK5"
      },
      "source": [
        "# Perceptron AND operator\n",
        "\n",
        "![alt text](https://drive.google.com/uc?id=1EVKYuVhLOMcvCOo4x2WDe9-rzbsIqe47)\n",
        "\n"
      ]
    },
    {
      "cell_type": "markdown",
      "metadata": {
        "id": "vtFvQ1gyvHjb"
      },
      "source": [
        "## Inputs, outputs and weights"
      ]
    },
    {
      "cell_type": "code",
      "metadata": {
        "id": "zVX7eezn1tvH"
      },
      "source": [
        "import numpy as np"
      ],
      "execution_count": 1,
      "outputs": []
    },
    {
      "cell_type": "code",
      "metadata": {
        "id": "FN5Nn9So1wQR"
      },
      "source": [
        "inputs = np.array([[0,0], [0,1], [1,0], [1,1]])"
      ],
      "execution_count": 2,
      "outputs": []
    },
    {
      "cell_type": "code",
      "metadata": {
        "id": "vIj1zmYg19fK",
        "outputId": "9174c792-88ff-4bd9-bd07-557ee170137d",
        "colab": {
          "base_uri": "https://localhost:8080/"
        }
      },
      "source": [
        "inputs.shape"
      ],
      "execution_count": 3,
      "outputs": [
        {
          "output_type": "execute_result",
          "data": {
            "text/plain": [
              "(4, 2)"
            ]
          },
          "metadata": {},
          "execution_count": 3
        }
      ]
    },
    {
      "cell_type": "code",
      "metadata": {
        "id": "LVntoG8i2L3j"
      },
      "source": [
        "outputs = np.array([0, 0, 0, 1])"
      ],
      "execution_count": 4,
      "outputs": []
    },
    {
      "cell_type": "code",
      "metadata": {
        "id": "_yu4Vm4H2Sr4",
        "outputId": "3285f281-441a-4f65-d6cb-e7bc81951498",
        "colab": {
          "base_uri": "https://localhost:8080/"
        }
      },
      "source": [
        "outputs.shape"
      ],
      "execution_count": 5,
      "outputs": [
        {
          "output_type": "execute_result",
          "data": {
            "text/plain": [
              "(4,)"
            ]
          },
          "metadata": {},
          "execution_count": 5
        }
      ]
    },
    {
      "cell_type": "code",
      "metadata": {
        "id": "T2Rcfnnn2ZmH"
      },
      "source": [
        "weights = np.array([0.0, 0.0])"
      ],
      "execution_count": 6,
      "outputs": []
    },
    {
      "cell_type": "code",
      "metadata": {
        "id": "NbODX3RP2h8i"
      },
      "source": [
        "learning_rate = 0.1"
      ],
      "execution_count": 7,
      "outputs": []
    },
    {
      "cell_type": "markdown",
      "metadata": {
        "id": "ocsTG9x4xBg6"
      },
      "source": [
        "## Step function"
      ]
    },
    {
      "cell_type": "code",
      "metadata": {
        "id": "o1RFqwKK2tpV"
      },
      "source": [
        "def step_function(sum):\n",
        "  if (sum >= 1):\n",
        "    return 1\n",
        "  return 0"
      ],
      "execution_count": 8,
      "outputs": []
    },
    {
      "cell_type": "markdown",
      "metadata": {
        "id": "Mafr9eVAxNZl"
      },
      "source": [
        "## Calculate output"
      ]
    },
    {
      "cell_type": "code",
      "metadata": {
        "id": "sn3ceNoI24Gc"
      },
      "source": [
        "def calculate_output(instance):\n",
        "  s = instance.dot(weights)\n",
        "  return step_function(s)"
      ],
      "execution_count": 9,
      "outputs": []
    },
    {
      "cell_type": "code",
      "metadata": {
        "id": "thzmKR6M3cU2",
        "colab": {
          "base_uri": "https://localhost:8080/"
        },
        "outputId": "5b9ab9dc-fc48-41b4-f91d-478e656d1739"
      },
      "source": [
        "calculate_output(np.array([[1,1]]))"
      ],
      "execution_count": 10,
      "outputs": [
        {
          "output_type": "execute_result",
          "data": {
            "text/plain": [
              "0"
            ]
          },
          "metadata": {},
          "execution_count": 10
        }
      ]
    },
    {
      "cell_type": "markdown",
      "metadata": {
        "id": "fb9IBkO6EE0e"
      },
      "source": [
        "## Train"
      ]
    },
    {
      "cell_type": "code",
      "metadata": {
        "id": "c9eBJd296stq",
        "colab": {
          "base_uri": "https://localhost:8080/"
        },
        "outputId": "3f940d52-6400-4724-9970-658a38864ff2"
      },
      "source": [
        "len(outputs)"
      ],
      "execution_count": 11,
      "outputs": [
        {
          "output_type": "execute_result",
          "data": {
            "text/plain": [
              "4"
            ]
          },
          "metadata": {},
          "execution_count": 11
        }
      ]
    },
    {
      "cell_type": "code",
      "metadata": {
        "id": "8Jlf_XuV69tP",
        "colab": {
          "base_uri": "https://localhost:8080/"
        },
        "outputId": "9dc228cf-6de2-422c-af2c-cd885c37c0a4"
      },
      "source": [
        "inputs[3]"
      ],
      "execution_count": 12,
      "outputs": [
        {
          "output_type": "execute_result",
          "data": {
            "text/plain": [
              "array([1, 1])"
            ]
          },
          "metadata": {},
          "execution_count": 12
        }
      ]
    },
    {
      "cell_type": "code",
      "metadata": {
        "id": "DVdsPGuU7gCN",
        "colab": {
          "base_uri": "https://localhost:8080/"
        },
        "outputId": "7f98ae00-8bdb-42dd-d4cd-b61252eeb3c1"
      },
      "source": [
        "0 - 1"
      ],
      "execution_count": 13,
      "outputs": [
        {
          "output_type": "execute_result",
          "data": {
            "text/plain": [
              "-1"
            ]
          },
          "metadata": {},
          "execution_count": 13
        }
      ]
    },
    {
      "cell_type": "code",
      "metadata": {
        "id": "X3BYWplb7izL",
        "colab": {
          "base_uri": "https://localhost:8080/"
        },
        "outputId": "38865562-041e-4b6f-ecd8-270c25f621ec"
      },
      "source": [
        "abs(0 - 1)"
      ],
      "execution_count": 14,
      "outputs": [
        {
          "output_type": "execute_result",
          "data": {
            "text/plain": [
              "1"
            ]
          },
          "metadata": {},
          "execution_count": 14
        }
      ]
    },
    {
      "cell_type": "code",
      "metadata": {
        "id": "rmcm4Eq486Dx",
        "colab": {
          "base_uri": "https://localhost:8080/"
        },
        "outputId": "8e680b0d-eaf3-413f-ac18-b904fc3c2f27"
      },
      "source": [
        "inputs"
      ],
      "execution_count": 15,
      "outputs": [
        {
          "output_type": "execute_result",
          "data": {
            "text/plain": [
              "array([[0, 0],\n",
              "       [0, 1],\n",
              "       [1, 0],\n",
              "       [1, 1]])"
            ]
          },
          "metadata": {},
          "execution_count": 15
        }
      ]
    },
    {
      "cell_type": "code",
      "metadata": {
        "id": "PztcBQLF879g",
        "colab": {
          "base_uri": "https://localhost:8080/"
        },
        "outputId": "b1800258-c9af-47de-9760-46e762dd1f34"
      },
      "source": [
        "inputs[1]"
      ],
      "execution_count": 16,
      "outputs": [
        {
          "output_type": "execute_result",
          "data": {
            "text/plain": [
              "array([0, 1])"
            ]
          },
          "metadata": {},
          "execution_count": 16
        }
      ]
    },
    {
      "cell_type": "code",
      "metadata": {
        "id": "jXitRPI28-Tb",
        "colab": {
          "base_uri": "https://localhost:8080/"
        },
        "outputId": "bb59b900-812a-4c48-c32d-6fc29e82259d"
      },
      "source": [
        "inputs[1][0]"
      ],
      "execution_count": 17,
      "outputs": [
        {
          "output_type": "execute_result",
          "data": {
            "text/plain": [
              "0"
            ]
          },
          "metadata": {},
          "execution_count": 17
        }
      ]
    },
    {
      "cell_type": "code",
      "metadata": {
        "id": "h3SSwlF49By5",
        "colab": {
          "base_uri": "https://localhost:8080/"
        },
        "outputId": "9ed9f3d3-12e2-4385-90a3-395dacdd3e1d"
      },
      "source": [
        "inputs[1][1]"
      ],
      "execution_count": 18,
      "outputs": [
        {
          "output_type": "execute_result",
          "data": {
            "text/plain": [
              "1"
            ]
          },
          "metadata": {},
          "execution_count": 18
        }
      ]
    },
    {
      "cell_type": "code",
      "metadata": {
        "id": "bX8W0Rec4wnS"
      },
      "source": [
        "def train():\n",
        "  total_error = 1\n",
        "  while (total_error != 0):\n",
        "    total_error = 0\n",
        "    for i in range(len(outputs)):\n",
        "      prediction = calculate_output(inputs[i])\n",
        "      error = abs(outputs[i] - prediction)\n",
        "      total_error += error\n",
        "      if error > 0:\n",
        "        for j in range(len(weights)):\n",
        "          weights[j] = weights[j] + (learning_rate * inputs[i][j] * error)\n",
        "          print('Weight updated: ' + str(weights[j]))\n",
        "    print('Total error: ' + str(total_error))"
      ],
      "execution_count": 19,
      "outputs": []
    },
    {
      "cell_type": "code",
      "metadata": {
        "id": "0Y-Jk-Nt9ZSY",
        "colab": {
          "base_uri": "https://localhost:8080/"
        },
        "outputId": "c6f4f1ab-9533-410a-fcfb-0f58da506bbd"
      },
      "source": [
        "train()"
      ],
      "execution_count": 20,
      "outputs": [
        {
          "output_type": "stream",
          "name": "stdout",
          "text": [
            "Weight updated: 0.1\n",
            "Weight updated: 0.1\n",
            "Total error: 1\n",
            "Weight updated: 0.2\n",
            "Weight updated: 0.2\n",
            "Total error: 1\n",
            "Weight updated: 0.30000000000000004\n",
            "Weight updated: 0.30000000000000004\n",
            "Total error: 1\n",
            "Weight updated: 0.4\n",
            "Weight updated: 0.4\n",
            "Total error: 1\n",
            "Weight updated: 0.5\n",
            "Weight updated: 0.5\n",
            "Total error: 1\n",
            "Total error: 0\n"
          ]
        }
      ]
    },
    {
      "cell_type": "markdown",
      "metadata": {
        "id": "eyqXVsyxEGk5"
      },
      "source": [
        "## Classification"
      ]
    },
    {
      "cell_type": "code",
      "metadata": {
        "id": "qQty0v4l-RNN",
        "colab": {
          "base_uri": "https://localhost:8080/"
        },
        "outputId": "34508afd-ca3a-4f71-e6f2-dfde01075a5c"
      },
      "source": [
        "weights"
      ],
      "execution_count": 21,
      "outputs": [
        {
          "output_type": "execute_result",
          "data": {
            "text/plain": [
              "array([0.5, 0.5])"
            ]
          },
          "metadata": {},
          "execution_count": 21
        }
      ]
    },
    {
      "cell_type": "code",
      "metadata": {
        "id": "HjQzKFmX-buf",
        "colab": {
          "base_uri": "https://localhost:8080/"
        },
        "outputId": "cd2f5356-b82a-470a-cc41-90d7bf93313c"
      },
      "source": [
        "calculate_output(np.array([0,0]))"
      ],
      "execution_count": 22,
      "outputs": [
        {
          "output_type": "execute_result",
          "data": {
            "text/plain": [
              "0"
            ]
          },
          "metadata": {},
          "execution_count": 22
        }
      ]
    },
    {
      "cell_type": "code",
      "metadata": {
        "id": "NyWEM6u7-jE9",
        "colab": {
          "base_uri": "https://localhost:8080/"
        },
        "outputId": "c1e04670-0176-44d4-876b-c4ac368ecff0"
      },
      "source": [
        "calculate_output(np.array([0,1]))"
      ],
      "execution_count": 23,
      "outputs": [
        {
          "output_type": "execute_result",
          "data": {
            "text/plain": [
              "0"
            ]
          },
          "metadata": {},
          "execution_count": 23
        }
      ]
    },
    {
      "cell_type": "code",
      "metadata": {
        "id": "f6_o3dym-lCu",
        "colab": {
          "base_uri": "https://localhost:8080/"
        },
        "outputId": "d2a6c394-55d7-44b0-b16a-e2b5b50c0cda"
      },
      "source": [
        "calculate_output(np.array([1,0]))"
      ],
      "execution_count": 24,
      "outputs": [
        {
          "output_type": "execute_result",
          "data": {
            "text/plain": [
              "0"
            ]
          },
          "metadata": {},
          "execution_count": 24
        }
      ]
    },
    {
      "cell_type": "code",
      "metadata": {
        "id": "nrolm14p-mvC",
        "colab": {
          "base_uri": "https://localhost:8080/"
        },
        "outputId": "6ffcb259-d2a0-49cf-ce1e-197d80db345a"
      },
      "source": [
        "calculate_output(np.array([1,1]))"
      ],
      "execution_count": 25,
      "outputs": [
        {
          "output_type": "execute_result",
          "data": {
            "text/plain": [
              "1"
            ]
          },
          "metadata": {},
          "execution_count": 25
        }
      ]
    }
  ]
}